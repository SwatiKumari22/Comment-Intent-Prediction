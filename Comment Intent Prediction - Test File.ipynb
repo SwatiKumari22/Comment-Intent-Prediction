{
 "cells": [
  {
   "cell_type": "code",
   "execution_count": 8,
   "id": "1eabc32c",
   "metadata": {},
   "outputs": [],
   "source": [
    "import pandas as pd\n",
    "import numpy as np"
   ]
  },
  {
   "cell_type": "code",
   "execution_count": 9,
   "id": "9d5c602a",
   "metadata": {},
   "outputs": [],
   "source": [
    "import warnings\n",
    "warnings.filterwarnings('ignore')\n",
    "pd. set_option(\"display.max_columns\", 35)"
   ]
  },
  {
   "cell_type": "code",
   "execution_count": 50,
   "id": "2e2bf896",
   "metadata": {},
   "outputs": [
    {
     "data": {
      "text/html": [
       "<div>\n",
       "<style scoped>\n",
       "    .dataframe tbody tr th:only-of-type {\n",
       "        vertical-align: middle;\n",
       "    }\n",
       "\n",
       "    .dataframe tbody tr th {\n",
       "        vertical-align: top;\n",
       "    }\n",
       "\n",
       "    .dataframe thead th {\n",
       "        text-align: right;\n",
       "    }\n",
       "</style>\n",
       "<table border=\"1\" class=\"dataframe\">\n",
       "  <thead>\n",
       "    <tr style=\"text-align: right;\">\n",
       "      <th></th>\n",
       "      <th>Unnamed: 0</th>\n",
       "      <th>GroupName</th>\n",
       "      <th>PostType</th>\n",
       "      <th>ProfileName</th>\n",
       "      <th>Message</th>\n",
       "    </tr>\n",
       "  </thead>\n",
       "  <tbody>\n",
       "    <tr>\n",
       "      <th>0</th>\n",
       "      <td>15545</td>\n",
       "      <td>126</td>\n",
       "      <td>1</td>\n",
       "      <td>Gray Lyon</td>\n",
       "      <td>bitcoin mine platform stop waste time fake lin...</td>\n",
       "    </tr>\n",
       "    <tr>\n",
       "      <th>1</th>\n",
       "      <td>92504</td>\n",
       "      <td>503</td>\n",
       "      <td>0</td>\n",
       "      <td>Giorgio Roffo</td>\n",
       "      <td>informatics new special issue quot feature sel...</td>\n",
       "    </tr>\n",
       "    <tr>\n",
       "      <th>2</th>\n",
       "      <td>31750</td>\n",
       "      <td>819</td>\n",
       "      <td>0</td>\n",
       "      <td>Vimal Sharma</td>\n",
       "      <td>meet master blaster mahesh gaur amp kartik sin...</td>\n",
       "    </tr>\n",
       "    <tr>\n",
       "      <th>3</th>\n",
       "      <td>104653</td>\n",
       "      <td>748</td>\n",
       "      <td>0</td>\n",
       "      <td>Domenico Avantagiato</td>\n",
       "      <td>welcome itradegold https urly https urly itrad...</td>\n",
       "    </tr>\n",
       "    <tr>\n",
       "      <th>4</th>\n",
       "      <td>66160</td>\n",
       "      <td>523</td>\n",
       "      <td>1</td>\n",
       "      <td>Govinda Kumar</td>\n",
       "      <td>hi everyone team wordpress website development...</td>\n",
       "    </tr>\n",
       "  </tbody>\n",
       "</table>\n",
       "</div>"
      ],
      "text/plain": [
       "   Unnamed: 0  GroupName  PostType           ProfileName  \\\n",
       "0       15545        126         1             Gray Lyon   \n",
       "1       92504        503         0         Giorgio Roffo   \n",
       "2       31750        819         0          Vimal Sharma   \n",
       "3      104653        748         0  Domenico Avantagiato   \n",
       "4       66160        523         1         Govinda Kumar   \n",
       "\n",
       "                                             Message  \n",
       "0  bitcoin mine platform stop waste time fake lin...  \n",
       "1  informatics new special issue quot feature sel...  \n",
       "2  meet master blaster mahesh gaur amp kartik sin...  \n",
       "3  welcome itradegold https urly https urly itrad...  \n",
       "4  hi everyone team wordpress website development...  "
      ]
     },
     "execution_count": 50,
     "metadata": {},
     "output_type": "execute_result"
    }
   ],
   "source": [
    "df=pd.read_csv('df_test.csv')\n",
    "df.head()"
   ]
  },
  {
   "cell_type": "code",
   "execution_count": 51,
   "id": "b9f9d611",
   "metadata": {},
   "outputs": [
    {
     "name": "stdout",
     "output_type": "stream",
     "text": [
      "Shape Of The Dataset :- (101885, 5)\n",
      "\n",
      " Number Of Null Values In Every Column \n",
      " Unnamed: 0        0\n",
      "GroupName         0\n",
      "PostType          0\n",
      "ProfileName      91\n",
      "Message        6404\n",
      "dtype: int64\n"
     ]
    }
   ],
   "source": [
    "## dataset shape \n",
    "print(f\"{'shape of the dataset'.title()} :- {df.shape}\")\n",
    "\n",
    "## missing values\n",
    "print(f\"\\n {'Number of null values in every column'.title()} \\n {df.isnull().sum()}\")"
   ]
  },
  {
   "cell_type": "code",
   "execution_count": 52,
   "id": "8eed8804",
   "metadata": {},
   "outputs": [],
   "source": [
    "df['ProfileName'] = df['ProfileName'].fillna(df['ProfileName'].mode()[0])"
   ]
  },
  {
   "cell_type": "code",
   "execution_count": 53,
   "id": "af185427",
   "metadata": {},
   "outputs": [],
   "source": [
    "df=df.dropna()"
   ]
  },
  {
   "cell_type": "code",
   "execution_count": 54,
   "id": "d4415ddf",
   "metadata": {},
   "outputs": [
    {
     "data": {
      "text/plain": [
       "(95481, 5)"
      ]
     },
     "execution_count": 54,
     "metadata": {},
     "output_type": "execute_result"
    }
   ],
   "source": [
    "df.shape"
   ]
  },
  {
   "cell_type": "code",
   "execution_count": 55,
   "id": "b6952621",
   "metadata": {},
   "outputs": [],
   "source": [
    "import re\n",
    "import string\n",
    "from nltk.corpus import stopwords\n",
    "from nltk.tokenize import word_tokenize\n",
    "from nltk.stem import WordNetLemmatizer\n",
    "lemma=WordNetLemmatizer()"
   ]
  },
  {
   "cell_type": "code",
   "execution_count": 56,
   "id": "93b2c14f",
   "metadata": {},
   "outputs": [],
   "source": [
    "stop_words = set(stopwords.words('english'))\n",
    "for x in range(ord('b'), ord('z')+1):\n",
    "    stop_words.add(chr(x))"
   ]
  },
  {
   "cell_type": "code",
   "execution_count": 57,
   "id": "de1302d3",
   "metadata": {},
   "outputs": [],
   "source": [
    "#Preprocessing of Text data\n",
    "def cleaning_data(row):\n",
    "    row=row.lower()\n",
    "    row=re.sub('[^a-zA-Z]',' ',row)\n",
    "    tokens = word_tokenize(row)\n",
    "    message = [lemma.lemmatize(word,pos=\"v\") for word in tokens if not word in stop_words]\n",
    "    cleaned_message=' '.join(message)\n",
    "    \n",
    "    return cleaned_message"
   ]
  },
  {
   "cell_type": "code",
   "execution_count": 58,
   "id": "d35fc88d",
   "metadata": {},
   "outputs": [],
   "source": [
    "df.Message=df.Message.apply(cleaning_data)"
   ]
  },
  {
   "cell_type": "code",
   "execution_count": 59,
   "id": "b839c2f0",
   "metadata": {},
   "outputs": [
    {
     "data": {
      "text/html": [
       "<style>#sk-container-id-3 {color: black;background-color: white;}#sk-container-id-3 pre{padding: 0;}#sk-container-id-3 div.sk-toggleable {background-color: white;}#sk-container-id-3 label.sk-toggleable__label {cursor: pointer;display: block;width: 100%;margin-bottom: 0;padding: 0.3em;box-sizing: border-box;text-align: center;}#sk-container-id-3 label.sk-toggleable__label-arrow:before {content: \"▸\";float: left;margin-right: 0.25em;color: #696969;}#sk-container-id-3 label.sk-toggleable__label-arrow:hover:before {color: black;}#sk-container-id-3 div.sk-estimator:hover label.sk-toggleable__label-arrow:before {color: black;}#sk-container-id-3 div.sk-toggleable__content {max-height: 0;max-width: 0;overflow: hidden;text-align: left;background-color: #f0f8ff;}#sk-container-id-3 div.sk-toggleable__content pre {margin: 0.2em;color: black;border-radius: 0.25em;background-color: #f0f8ff;}#sk-container-id-3 input.sk-toggleable__control:checked~div.sk-toggleable__content {max-height: 200px;max-width: 100%;overflow: auto;}#sk-container-id-3 input.sk-toggleable__control:checked~label.sk-toggleable__label-arrow:before {content: \"▾\";}#sk-container-id-3 div.sk-estimator input.sk-toggleable__control:checked~label.sk-toggleable__label {background-color: #d4ebff;}#sk-container-id-3 div.sk-label input.sk-toggleable__control:checked~label.sk-toggleable__label {background-color: #d4ebff;}#sk-container-id-3 input.sk-hidden--visually {border: 0;clip: rect(1px 1px 1px 1px);clip: rect(1px, 1px, 1px, 1px);height: 1px;margin: -1px;overflow: hidden;padding: 0;position: absolute;width: 1px;}#sk-container-id-3 div.sk-estimator {font-family: monospace;background-color: #f0f8ff;border: 1px dotted black;border-radius: 0.25em;box-sizing: border-box;margin-bottom: 0.5em;}#sk-container-id-3 div.sk-estimator:hover {background-color: #d4ebff;}#sk-container-id-3 div.sk-parallel-item::after {content: \"\";width: 100%;border-bottom: 1px solid gray;flex-grow: 1;}#sk-container-id-3 div.sk-label:hover label.sk-toggleable__label {background-color: #d4ebff;}#sk-container-id-3 div.sk-serial::before {content: \"\";position: absolute;border-left: 1px solid gray;box-sizing: border-box;top: 0;bottom: 0;left: 50%;z-index: 0;}#sk-container-id-3 div.sk-serial {display: flex;flex-direction: column;align-items: center;background-color: white;padding-right: 0.2em;padding-left: 0.2em;position: relative;}#sk-container-id-3 div.sk-item {position: relative;z-index: 1;}#sk-container-id-3 div.sk-parallel {display: flex;align-items: stretch;justify-content: center;background-color: white;position: relative;}#sk-container-id-3 div.sk-item::before, #sk-container-id-3 div.sk-parallel-item::before {content: \"\";position: absolute;border-left: 1px solid gray;box-sizing: border-box;top: 0;bottom: 0;left: 50%;z-index: -1;}#sk-container-id-3 div.sk-parallel-item {display: flex;flex-direction: column;z-index: 1;position: relative;background-color: white;}#sk-container-id-3 div.sk-parallel-item:first-child::after {align-self: flex-end;width: 50%;}#sk-container-id-3 div.sk-parallel-item:last-child::after {align-self: flex-start;width: 50%;}#sk-container-id-3 div.sk-parallel-item:only-child::after {width: 0;}#sk-container-id-3 div.sk-dashed-wrapped {border: 1px dashed gray;margin: 0 0.4em 0.5em 0.4em;box-sizing: border-box;padding-bottom: 0.4em;background-color: white;}#sk-container-id-3 div.sk-label label {font-family: monospace;font-weight: bold;display: inline-block;line-height: 1.2em;}#sk-container-id-3 div.sk-label-container {text-align: center;}#sk-container-id-3 div.sk-container {/* jupyter's `normalize.less` sets `[hidden] { display: none; }` but bootstrap.min.css set `[hidden] { display: none !important; }` so we also need the `!important` here to be able to override the default hidden behavior on the sphinx rendered scikit-learn.org. See: https://github.com/scikit-learn/scikit-learn/issues/21755 */display: inline-block !important;position: relative;}#sk-container-id-3 div.sk-text-repr-fallback {display: none;}</style><div id=\"sk-container-id-3\" class=\"sk-top-container\"><div class=\"sk-text-repr-fallback\"><pre>TfidfVectorizer(max_features=150148, sublinear_tf=True)</pre><b>In a Jupyter environment, please rerun this cell to show the HTML representation or trust the notebook. <br />On GitHub, the HTML representation is unable to render, please try loading this page with nbviewer.org.</b></div><div class=\"sk-container\" hidden><div class=\"sk-item\"><div class=\"sk-estimator sk-toggleable\"><input class=\"sk-toggleable__control sk-hidden--visually\" id=\"sk-estimator-id-3\" type=\"checkbox\" checked><label for=\"sk-estimator-id-3\" class=\"sk-toggleable__label sk-toggleable__label-arrow\">TfidfVectorizer</label><div class=\"sk-toggleable__content\"><pre>TfidfVectorizer(max_features=150148, sublinear_tf=True)</pre></div></div></div></div></div>"
      ],
      "text/plain": [
       "TfidfVectorizer(max_features=150148, sublinear_tf=True)"
      ]
     },
     "execution_count": 59,
     "metadata": {},
     "output_type": "execute_result"
    }
   ],
   "source": [
    "from sklearn.feature_extraction.text import TfidfVectorizer\n",
    "\n",
    "tf_vector = TfidfVectorizer(sublinear_tf=True,max_features=150148)\n",
    "tf_vector.fit(df['Message'])"
   ]
  },
  {
   "cell_type": "code",
   "execution_count": 60,
   "id": "55237520",
   "metadata": {},
   "outputs": [],
   "source": [
    "x = tf_vector.transform(df['Message'].ravel())"
   ]
  },
  {
   "cell_type": "code",
   "execution_count": 61,
   "id": "b2e697b0",
   "metadata": {},
   "outputs": [
    {
     "data": {
      "text/plain": [
       "(95481, 150148)"
      ]
     },
     "execution_count": 61,
     "metadata": {},
     "output_type": "execute_result"
    }
   ],
   "source": [
    "x.shape"
   ]
  },
  {
   "cell_type": "code",
   "execution_count": 62,
   "id": "11b9b8fc",
   "metadata": {},
   "outputs": [],
   "source": [
    "import joblib\n",
    "model=joblib.load('DTCmodel.pkl')"
   ]
  },
  {
   "cell_type": "code",
   "execution_count": 63,
   "id": "11d72710",
   "metadata": {},
   "outputs": [],
   "source": [
    "pred=model.predict(x)"
   ]
  },
  {
   "cell_type": "code",
   "execution_count": 64,
   "id": "8a7ad2da",
   "metadata": {},
   "outputs": [],
   "source": [
    "pred3=pd.DataFrame(pred,columns=['Label'])"
   ]
  },
  {
   "cell_type": "code",
   "execution_count": 65,
   "id": "535b5f43",
   "metadata": {},
   "outputs": [],
   "source": [
    "pred3.to_csv('PredDTC.csv')"
   ]
  },
  {
   "cell_type": "code",
   "execution_count": null,
   "id": "98f52ef6",
   "metadata": {},
   "outputs": [],
   "source": []
  }
 ],
 "metadata": {
  "kernelspec": {
   "display_name": "Python 3",
   "language": "python",
   "name": "python3"
  },
  "language_info": {
   "codemirror_mode": {
    "name": "ipython",
    "version": 3
   },
   "file_extension": ".py",
   "mimetype": "text/x-python",
   "name": "python",
   "nbconvert_exporter": "python",
   "pygments_lexer": "ipython3",
   "version": "3.8.8"
  }
 },
 "nbformat": 4,
 "nbformat_minor": 5
}
